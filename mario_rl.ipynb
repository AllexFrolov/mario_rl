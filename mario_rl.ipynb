{
 "cells": [
  {
   "cell_type": "markdown",
   "metadata": {},
   "source": [
    "# Header\n",
    "1. [Setup Mario](#a-namesetupmario1-setup-marioa)\n",
    "2. [Preprocess Environment](#a-namepreprocessenvironment2-preprocess-environmenta)\n",
    "3. [Train the RL Model](#a-nametraintherlmodel3-train-the-rl-modela)\n",
    "4. [Test it Out](#a-nametestitout4-test-it-outa)"
   ]
  },
  {
   "cell_type": "markdown",
   "metadata": {},
   "source": [
    "## <a name='setup_mario'>1. Setup Mario</a>"
   ]
  },
  {
   "cell_type": "code",
   "execution_count": null,
   "metadata": {},
   "outputs": [],
   "source": []
  },
  {
   "cell_type": "markdown",
   "metadata": {},
   "source": [
    "## <a name='preprocess_environment'>2. Preprocess Environment</a>"
   ]
  },
  {
   "cell_type": "code",
   "execution_count": null,
   "metadata": {},
   "outputs": [],
   "source": []
  },
  {
   "cell_type": "markdown",
   "metadata": {},
   "source": [
    "## <a name='train_the_rl_model'>3. Train the RL Model</a>"
   ]
  },
  {
   "cell_type": "code",
   "execution_count": null,
   "metadata": {},
   "outputs": [],
   "source": []
  },
  {
   "cell_type": "markdown",
   "metadata": {},
   "source": [
    "## <a name='test_it_out'>4. Test it Out</a>"
   ]
  },
  {
   "cell_type": "code",
   "execution_count": null,
   "metadata": {},
   "outputs": [],
   "source": []
  }
 ],
 "metadata": {
  "interpreter": {
   "hash": "3b078745211ae68504317b6540c5a17d458482767630b60422278f69008794ac"
  },
  "kernelspec": {
   "display_name": "Python 3.10.4 ('mario_rl')",
   "language": "python",
   "name": "python3"
  },
  "language_info": {
   "name": "python",
   "version": "3.10.4"
  },
  "orig_nbformat": 4
 },
 "nbformat": 4,
 "nbformat_minor": 2
}
